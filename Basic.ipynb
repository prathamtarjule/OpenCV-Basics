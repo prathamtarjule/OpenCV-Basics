{
 "cells": [
  {
   "cell_type": "code",
   "execution_count": 1,
   "id": "2631d8dd",
   "metadata": {},
   "outputs": [],
   "source": [
    "# import libraries\n",
    "import cv2 as cv\n",
    "import numpy as np "
   ]
  },
  {
   "cell_type": "code",
   "execution_count": 2,
   "id": "ba43d5df",
   "metadata": {},
   "outputs": [],
   "source": [
    "# Reading the image \n",
    "\n",
    "img = cv.imread('C:/Users/PRATHAM/Downloads/opencv.jpg')"
   ]
  },
  {
   "cell_type": "code",
   "execution_count": 3,
   "id": "0e2a2dfb",
   "metadata": {},
   "outputs": [
    {
     "data": {
      "text/plain": [
       "100"
      ]
     },
     "execution_count": 3,
     "metadata": {},
     "output_type": "execute_result"
    }
   ],
   "source": [
    "# Displaying the image\n",
    "cv.imshow('street',img)   # ('windowname',img)\n",
    "\n",
    "#wait for a certain time (ms) to close the window after pressing a key \n",
    "cv.waitKey(0)  # 0 means infinite time to wait"
   ]
  },
  {
   "cell_type": "code",
   "execution_count": 4,
   "id": "def38e69",
   "metadata": {},
   "outputs": [],
   "source": [
    "# Reading a video \n",
    "#capture = cv.VideoCapture(0)  # 0 means webcam camera\n",
    "\n",
    "capture = cv.VideoCapture('C:/Users/PRATHAM/Videos/20d110029_Alumium_Sand_Casting.m4v')\n",
    "while True:\n",
    "    isTrue, frame = capture.read() # reads the video frame by frame\n",
    "    cv.imshow('presentation', frame)  # shows the video \n",
    "    if cv.waitKey(10) & 0xFF==ord('d'):\n",
    "        break\n",
    "capture.release() # releases the video\n",
    "cv.destroyAllWindows()"
   ]
  },
  {
   "cell_type": "code",
   "execution_count": 5,
   "id": "bcdc6501",
   "metadata": {},
   "outputs": [],
   "source": [
    "# error showing above because cv cannot find any more frames.This same errr also occurs when you provide an incorrect path to an image or a video."
   ]
  },
  {
   "cell_type": "code",
   "execution_count": 6,
   "id": "e41e2e58",
   "metadata": {},
   "outputs": [],
   "source": [
    "# Rescaling the image \n",
    "def rescaleFrame(frame, scale = 0.75):\n",
    "    height = int(frame.shape[0]*scale)\n",
    "    width = int(frame.shape[1]*scale)\n",
    "    dimensions = (width,height)\n",
    "    rescaled = cv.resize(frame,dimensions,interpolation = cv.INTER_AREA)\n",
    "    \n",
    "    return cv.imshow('rescaled',rescaled)\n"
   ]
  },
  {
   "cell_type": "code",
   "execution_count": 7,
   "id": "3677b283",
   "metadata": {},
   "outputs": [
    {
     "data": {
      "text/plain": [
       "100"
      ]
     },
     "execution_count": 7,
     "metadata": {},
     "output_type": "execute_result"
    }
   ],
   "source": [
    "# calling the rescaleFrame function \n",
    "\n",
    "rescaleFrame(img)\n",
    "cv.waitKey(0)"
   ]
  },
  {
   "cell_type": "code",
   "execution_count": 8,
   "id": "8df9f41a",
   "metadata": {},
   "outputs": [],
   "source": [
    "def changeRes(width,height):\n",
    "    # changing resolution of a live video (works only for live video)\n",
    "    capture.set(3,width)   # (property id, value) 3 for width and 4 for height\n",
    "    capture.set(4,height)"
   ]
  },
  {
   "cell_type": "code",
   "execution_count": 9,
   "id": "4a27d9e6",
   "metadata": {},
   "outputs": [],
   "source": [
    "# Drawing and Writing on an image"
   ]
  },
  {
   "cell_type": "code",
   "execution_count": 10,
   "id": "ce84acbf",
   "metadata": {},
   "outputs": [],
   "source": [
    "# creating a blank image \n",
    "blank = np.zeros((500,500,3),dtype = 'uint8') # image of size 500*500 with color channel 3 and uint8 is a datatype of an image"
   ]
  },
  {
   "cell_type": "code",
   "execution_count": 11,
   "id": "bc47244c",
   "metadata": {},
   "outputs": [
    {
     "data": {
      "text/plain": [
       "100"
      ]
     },
     "execution_count": 11,
     "metadata": {},
     "output_type": "execute_result"
    }
   ],
   "source": [
    "cv.imshow('blank',blank)\n",
    "cv.waitKey(0)"
   ]
  },
  {
   "cell_type": "code",
   "execution_count": 12,
   "id": "a5b13d1d",
   "metadata": {},
   "outputs": [
    {
     "data": {
      "text/plain": [
       "100"
      ]
     },
     "execution_count": 12,
     "metadata": {},
     "output_type": "execute_result"
    }
   ],
   "source": [
    "# coloring an image \n",
    "\n",
    "blank[:] = 0,255,0   #BGR- Green image\n",
    "cv.imshow('green', blank)\n",
    "cv.waitKey(0)"
   ]
  },
  {
   "cell_type": "code",
   "execution_count": 13,
   "id": "fb58d6c4",
   "metadata": {},
   "outputs": [
    {
     "data": {
      "text/plain": [
       "100"
      ]
     },
     "execution_count": 13,
     "metadata": {},
     "output_type": "execute_result"
    }
   ],
   "source": [
    "# coloring specific areas in an image\n",
    "blank[200:300, 300:400] = 255,0,0 \n",
    "cv.imshow('m', blank)\n",
    "cv.waitKey(0)"
   ]
  },
  {
   "cell_type": "code",
   "execution_count": 14,
   "id": "d6c88abe",
   "metadata": {},
   "outputs": [
    {
     "data": {
      "text/plain": [
       "100"
      ]
     },
     "execution_count": 14,
     "metadata": {},
     "output_type": "execute_result"
    }
   ],
   "source": [
    "# draw a rectangle \n",
    "cv.rectangle(blank,(0,0),(250,250),(255,0,0), thickness = 2)\n",
    "cv.rectangle(blank,(0,0),(250,250),(255,0,0), thickness = cv.FILLED) # fill the whole rectangle with a color, can also use thickness = -1 for the same result\n",
    "cv.imshow('rectangle',blank)\n",
    "cv.waitKey(0)"
   ]
  },
  {
   "cell_type": "code",
   "execution_count": 15,
   "id": "fbe3f8d0",
   "metadata": {},
   "outputs": [
    {
     "data": {
      "text/plain": [
       "100"
      ]
     },
     "execution_count": 15,
     "metadata": {},
     "output_type": "execute_result"
    }
   ],
   "source": [
    "# Drawing a Circle\n",
    "cv.circle(blank,(250,250),40,(0,0,255), thickness = 3)\n",
    "cv.imshow('circle', blank)\n",
    "cv.waitKey(0)"
   ]
  },
  {
   "cell_type": "code",
   "execution_count": 16,
   "id": "eebdf9a2",
   "metadata": {},
   "outputs": [
    {
     "data": {
      "text/plain": [
       "100"
      ]
     },
     "execution_count": 16,
     "metadata": {},
     "output_type": "execute_result"
    }
   ],
   "source": [
    "# Drawing a line\n",
    "\n",
    "cv.line(blank, (0,0),(250,250),(255,255,255),thickness = 3)\n",
    "cv.imshow('line',blank)\n",
    "cv.waitKey(0)"
   ]
  },
  {
   "cell_type": "code",
   "execution_count": 17,
   "id": "a92d0e35",
   "metadata": {},
   "outputs": [],
   "source": [
    "cv.destroyAllWindows()"
   ]
  },
  {
   "cell_type": "code",
   "execution_count": 18,
   "id": "ba9c39e0",
   "metadata": {},
   "outputs": [
    {
     "data": {
      "text/plain": [
       "100"
      ]
     },
     "execution_count": 18,
     "metadata": {},
     "output_type": "execute_result"
    }
   ],
   "source": [
    "# Writing a text on image \n",
    "\n",
    "cv.putText(blank,'Hello',(225,225),cv.FONT_HERSHEY_COMPLEX, 1,(255,0,0), thickness = 3)  # 255,255 is the origin and 1 is the fontscale\n",
    "cv.imshow('text', blank)\n",
    "cv.waitKey(0)"
   ]
  },
  {
   "cell_type": "markdown",
   "id": "b2738d43",
   "metadata": {},
   "source": [
    "### 5 Essential Functions"
   ]
  },
  {
   "cell_type": "code",
   "execution_count": 19,
   "id": "fc4e7b52",
   "metadata": {},
   "outputs": [
    {
     "data": {
      "text/plain": [
       "100"
      ]
     },
     "execution_count": 19,
     "metadata": {},
     "output_type": "execute_result"
    }
   ],
   "source": [
    "# converting an image into a grayscale \n",
    "\n",
    "gray = cv.cvtColor(img,cv.COLOR_BGR2GRAY)\n",
    "cv.imshow('Gray', gray)\n",
    "cv.waitKey(0)"
   ]
  },
  {
   "cell_type": "code",
   "execution_count": 20,
   "id": "42d11011",
   "metadata": {},
   "outputs": [
    {
     "data": {
      "text/plain": [
       "100"
      ]
     },
     "execution_count": 20,
     "metadata": {},
     "output_type": "execute_result"
    }
   ],
   "source": [
    "# blurring an image \n",
    "blur = cv.GaussianBlur(img,(3,3),cv.BORDER_DEFAULT) # (3,3) is kernel size. To increase the blur increase the kernel size.\n",
    "cv.imshow('Blur',blur)\n",
    "cv.waitKey(0)"
   ]
  },
  {
   "cell_type": "code",
   "execution_count": 21,
   "id": "d5253f26",
   "metadata": {
    "scrolled": true
   },
   "outputs": [],
   "source": [
    "# creating an edge cascade (detecting the edge detection)\n",
    "\n",
    "canny = cv.Canny(img,125,175) #125,175 are threshold 1 and threshold 2 respectively\n",
    "#cv.imshow('Canny',canny)\n",
    "#cv.waitKey(0)  # we can get rid of some of the edges by applying blur i.e passing the blurred image instead of the original one"
   ]
  },
  {
   "cell_type": "code",
   "execution_count": 22,
   "id": "f0d83fec",
   "metadata": {},
   "outputs": [
    {
     "data": {
      "text/plain": [
       "100"
      ]
     },
     "execution_count": 22,
     "metadata": {},
     "output_type": "execute_result"
    }
   ],
   "source": [
    "# Dilate an image using a structured element(canny cascade)\n",
    "\n",
    "dilated = cv.dilate(canny,(7,7),iterations = 1) # (3,3) is kernel size \n",
    "cv.imshow('Dilated', dilated)\n",
    "cv.waitKey(0)"
   ]
  },
  {
   "cell_type": "code",
   "execution_count": 23,
   "id": "07c1ad1e",
   "metadata": {},
   "outputs": [
    {
     "data": {
      "text/plain": [
       "100"
      ]
     },
     "execution_count": 23,
     "metadata": {},
     "output_type": "execute_result"
    }
   ],
   "source": [
    "# eroding an image to get back the canny cascade image \n",
    "\n",
    "erode = cv.erode(dilated, (3,3), iterations = 1) \n",
    "cv.imshow('Erode', erode)\n",
    "cv.waitKey(0)"
   ]
  },
  {
   "cell_type": "code",
   "execution_count": 24,
   "id": "d1ae140b",
   "metadata": {},
   "outputs": [
    {
     "data": {
      "text/plain": [
       "100"
      ]
     },
     "execution_count": 24,
     "metadata": {},
     "output_type": "execute_result"
    }
   ],
   "source": [
    "# Resizing an image\n",
    "\n",
    "resized = cv.resize(img,(500,500), interpolation = cv.INTER_AREA)  # 500,500 is dsize, if you want to shrink the image use INTER_AREA whereas if you want to expand it use INTER_LINEAR or INTER_CUBIC \n",
    "cv.imshow('resized', resized)\n",
    "cv.waitKey(0)"
   ]
  },
  {
   "cell_type": "code",
   "execution_count": 25,
   "id": "1a4af72b",
   "metadata": {},
   "outputs": [
    {
     "data": {
      "text/plain": [
       "100"
      ]
     },
     "execution_count": 25,
     "metadata": {},
     "output_type": "execute_result"
    }
   ],
   "source": [
    "# cropping an image \n",
    "\n",
    "cropped = img[500:1000,100:200]\n",
    "cv.imshow('cropped',cropped)\n",
    "cv.waitKey(0)"
   ]
  },
  {
   "cell_type": "markdown",
   "id": "e6f96dcf",
   "metadata": {},
   "source": [
    "### Basic Image Transformation"
   ]
  },
  {
   "cell_type": "code",
   "execution_count": 26,
   "id": "2717a6b6",
   "metadata": {},
   "outputs": [],
   "source": [
    "# translation \n",
    "\n",
    "def translate(img,x,y):\n",
    "    transMat = np.float32([[1,0,x],[0,1,y]])\n",
    "    dimensions = (img.shape[1], img.shape[0])\n",
    "    return cv.warpAffine(img,transMat, dimensions)\n",
    "\n",
    "# -x ---> Left\n",
    "# -y ---> Up \n",
    "# +x ---> Right \n",
    "# +y ---> Down "
   ]
  },
  {
   "cell_type": "code",
   "execution_count": 27,
   "id": "eee82297",
   "metadata": {},
   "outputs": [
    {
     "data": {
      "text/plain": [
       "100"
      ]
     },
     "execution_count": 27,
     "metadata": {},
     "output_type": "execute_result"
    }
   ],
   "source": [
    "translated = translate(img,100,100)\n",
    "cv.imshow('Translated', translated)\n",
    "cv.waitKey(0)"
   ]
  },
  {
   "cell_type": "code",
   "execution_count": 28,
   "id": "b5be19dd",
   "metadata": {},
   "outputs": [],
   "source": [
    "# Rotating an image \n",
    "\n",
    "def rotate(img, angle, rotPoint = None):\n",
    "    (height,width) = img.shape[:2]\n",
    "    \n",
    "    if rotPoint is None:\n",
    "        rotPoint = (width//2, height //2)\n",
    "        \n",
    "    rotMat = cv.getRotationMatrix2D(rotPoint, angle, 1) # scaling value is 1 \n",
    "    dimensions = (width, height)\n",
    "    \n",
    "    return cv.warpAffine(img,rotMat,dimensions)"
   ]
  },
  {
   "cell_type": "code",
   "execution_count": 29,
   "id": "ad8461d4",
   "metadata": {},
   "outputs": [
    {
     "data": {
      "text/plain": [
       "100"
      ]
     },
     "execution_count": 29,
     "metadata": {},
     "output_type": "execute_result"
    }
   ],
   "source": [
    "rotated = rotate(img,10)\n",
    "cv.imshow('Rotated', rotated)\n",
    "cv.waitKey(0)"
   ]
  },
  {
   "cell_type": "code",
   "execution_count": 30,
   "id": "d65f50a4",
   "metadata": {},
   "outputs": [
    {
     "data": {
      "text/plain": [
       "100"
      ]
     },
     "execution_count": 30,
     "metadata": {},
     "output_type": "execute_result"
    }
   ],
   "source": [
    "# flipping an image \n",
    "\n",
    "flip =cv.flip(img,-1)\n",
    "cv.imshow('Flip', flip)\n",
    "cv.waitKey(0)\n",
    "\n",
    "# 0 means flipping the image vertically\n",
    "# 1 means flipping the image horizontally\n",
    "# -1 means flipping the image both vertically and horizontally\n",
    "\n"
   ]
  },
  {
   "cell_type": "markdown",
   "id": "6f6e4213",
   "metadata": {},
   "source": [
    "### Contour Detection"
   ]
  },
  {
   "cell_type": "code",
   "execution_count": 31,
   "id": "396fd156",
   "metadata": {},
   "outputs": [
    {
     "name": "stdout",
     "output_type": "stream",
     "text": [
      "Contours found: 211561\n"
     ]
    }
   ],
   "source": [
    "contours, hierarchies = cv.findContours(canny, cv.RETR_LIST, cv.CHAIN_APPROX_NONE) # cv.RETR_LIST is mode , cv.CHAIN_APPROX_NONE is chain approximation which gives end points(two points)\n",
    "print('Contours found:',len(contours))"
   ]
  },
  {
   "cell_type": "code",
   "execution_count": 32,
   "id": "ff980195",
   "metadata": {},
   "outputs": [],
   "source": [
    "# thresholding for binarizing the image\n",
    "\n",
    "ret, thresh = cv.threshold(gray,125,125,cv.THRESH_BINARY)"
   ]
  },
  {
   "cell_type": "code",
   "execution_count": 33,
   "id": "133d99ae",
   "metadata": {},
   "outputs": [
    {
     "data": {
      "text/plain": [
       "100"
      ]
     },
     "execution_count": 33,
     "metadata": {},
     "output_type": "execute_result"
    }
   ],
   "source": [
    "cv.imshow('thresh',thresh)\n",
    "cv.waitKey(0)"
   ]
  },
  {
   "cell_type": "code",
   "execution_count": 34,
   "id": "61c96a6c",
   "metadata": {},
   "outputs": [],
   "source": [
    "# drawing contours on a blank image\n",
    "#blank = np.zeros(img.shape,dtype = 'uint8')\n",
    "cv.drawContours(blank,contours,-1,(0,0,255),1) # -1 is contour index and 1 is the thickness\n",
    "cv.imshow('Contours drawn', blank)"
   ]
  },
  {
   "cell_type": "code",
   "execution_count": 35,
   "id": "c5cbd2ad",
   "metadata": {},
   "outputs": [],
   "source": [
    "cv.destroyAllWindows()"
   ]
  },
  {
   "cell_type": "code",
   "execution_count": null,
   "id": "3b8b1f09",
   "metadata": {},
   "outputs": [],
   "source": []
  },
  {
   "cell_type": "code",
   "execution_count": null,
   "id": "d8acb180",
   "metadata": {},
   "outputs": [],
   "source": []
  },
  {
   "cell_type": "code",
   "execution_count": null,
   "id": "2c2b231f",
   "metadata": {},
   "outputs": [],
   "source": []
  },
  {
   "cell_type": "code",
   "execution_count": null,
   "id": "cc43102b",
   "metadata": {},
   "outputs": [],
   "source": []
  }
 ],
 "metadata": {
  "kernelspec": {
   "display_name": "Python 3 (ipykernel)",
   "language": "python",
   "name": "python3"
  },
  "language_info": {
   "codemirror_mode": {
    "name": "ipython",
    "version": 3
   },
   "file_extension": ".py",
   "mimetype": "text/x-python",
   "name": "python",
   "nbconvert_exporter": "python",
   "pygments_lexer": "ipython3",
   "version": "3.9.13"
  }
 },
 "nbformat": 4,
 "nbformat_minor": 5
}
