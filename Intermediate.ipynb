{
 "cells": [
  {
   "cell_type": "code",
   "execution_count": 1,
   "id": "d14f999e",
   "metadata": {},
   "outputs": [],
   "source": [
    "# import libraries\n",
    "import cv2 as cv\n",
    "import numpy as np \n",
    "import matplotlib.pyplot as plt"
   ]
  },
  {
   "cell_type": "code",
   "execution_count": 2,
   "id": "80f9037e",
   "metadata": {},
   "outputs": [
    {
     "data": {
      "text/plain": [
       "-1"
      ]
     },
     "execution_count": 2,
     "metadata": {},
     "output_type": "execute_result"
    }
   ],
   "source": [
    "# Reading the image \n",
    "\n",
    "img = cv.imread('C:/Users/PRATHAM/Downloads/opencv.jpg')\n",
    "cv.imshow('img', img)\n",
    "cv.waitKey(10)"
   ]
  },
  {
   "cell_type": "markdown",
   "id": "7c72e4ba",
   "metadata": {},
   "source": [
    "### Color Spaces"
   ]
  },
  {
   "cell_type": "code",
   "execution_count": 3,
   "id": "fe703e30",
   "metadata": {},
   "outputs": [],
   "source": [
    "# opencv default image type is BGR and matplotlib's is RGB"
   ]
  },
  {
   "cell_type": "code",
   "execution_count": 4,
   "id": "c0679042",
   "metadata": {},
   "outputs": [
    {
     "data": {
      "text/plain": [
       "100"
      ]
     },
     "execution_count": 4,
     "metadata": {},
     "output_type": "execute_result"
    }
   ],
   "source": [
    "# converting bgr to grayscale\n",
    "gray = cv.cvtColor(img, cv.COLOR_BGR2GRAY)\n",
    "cv.imshow('gray', gray)\n",
    "cv.waitKey(0)"
   ]
  },
  {
   "cell_type": "code",
   "execution_count": 5,
   "id": "10f9f2c2",
   "metadata": {},
   "outputs": [
    {
     "data": {
      "text/plain": [
       "100"
      ]
     },
     "execution_count": 5,
     "metadata": {},
     "output_type": "execute_result"
    }
   ],
   "source": [
    "# Converting to HSV\n",
    "hsv = cv.cvtColor(img, cv.COLOR_BGR2HSV)\n",
    "cv.imshow('hsv', hsv)\n",
    "cv.waitKey(0)"
   ]
  },
  {
   "cell_type": "code",
   "execution_count": 6,
   "id": "5f78e562",
   "metadata": {
    "scrolled": false
   },
   "outputs": [
    {
     "data": {
      "text/plain": [
       "100"
      ]
     },
     "execution_count": 6,
     "metadata": {},
     "output_type": "execute_result"
    }
   ],
   "source": [
    "# Converting to LAB \n",
    "lab = cv.cvtColor(img, cv.COLOR_BGR2LAB)\n",
    "cv.imshow('lab',lab)\n",
    "cv.waitKey(0)"
   ]
  },
  {
   "cell_type": "code",
   "execution_count": 7,
   "id": "7a07b7b7",
   "metadata": {},
   "outputs": [
    {
     "data": {
      "text/plain": [
       "100"
      ]
     },
     "execution_count": 7,
     "metadata": {},
     "output_type": "execute_result"
    }
   ],
   "source": [
    "# Converting BGR to RGB\n",
    "rgb = cv.cvtColor(img, cv.COLOR_BGR2RGB)\n",
    "cv.imshow('rgb',rgb)\n",
    "cv.waitKey(0)"
   ]
  },
  {
   "cell_type": "code",
   "execution_count": 8,
   "id": "0aa96837",
   "metadata": {},
   "outputs": [
    {
     "data": {
      "text/plain": [
       "100"
      ]
     },
     "execution_count": 8,
     "metadata": {},
     "output_type": "execute_result"
    }
   ],
   "source": [
    "# you cannot convert HSV to grayscale directly. You first have to convert HSV to BGR and then BGR to grayscale\n",
    "bgr = cv.cvtColor(img, cv.COLOR_HSV2BGR)\n",
    "grayscale = cv.cvtColor(bgr, cv.COLOR_BGR2GRAY)\n",
    "cv.imshow('grayscale',grayscale)\n",
    "cv.waitKey(0)"
   ]
  },
  {
   "cell_type": "markdown",
   "id": "525eff8a",
   "metadata": {},
   "source": [
    "### Color Channels"
   ]
  },
  {
   "cell_type": "code",
   "execution_count": 9,
   "id": "0a44d2a7",
   "metadata": {},
   "outputs": [
    {
     "data": {
      "text/plain": [
       "100"
      ]
     },
     "execution_count": 9,
     "metadata": {},
     "output_type": "execute_result"
    }
   ],
   "source": [
    "# Splitting the image into three color channels (images will be in grayscale)\n",
    "b ,g, r = cv.split(img)\n",
    "cv.imshow('Blue',b)\n",
    "cv.imshow('Green', g)\n",
    "cv.imshow('Red',r)\n",
    "cv.waitKey(0)\n",
    "\n",
    "# lighter distribution represents the higher concentration of that color"
   ]
  },
  {
   "cell_type": "code",
   "execution_count": 10,
   "id": "f885c34c",
   "metadata": {},
   "outputs": [],
   "source": [
    "# BGR has 3 color channels and grayscale has 1"
   ]
  },
  {
   "cell_type": "code",
   "execution_count": 11,
   "id": "e71fe876",
   "metadata": {},
   "outputs": [
    {
     "data": {
      "text/plain": [
       "100"
      ]
     },
     "execution_count": 11,
     "metadata": {},
     "output_type": "execute_result"
    }
   ],
   "source": [
    "# Merging the color channels\n",
    "merged = cv.merge([b, g, r])\n",
    "cv.imshow('Merged', merged)\n",
    "cv.waitKey(0)"
   ]
  },
  {
   "cell_type": "code",
   "execution_count": 12,
   "id": "5c52aa4f",
   "metadata": {},
   "outputs": [
    {
     "data": {
      "text/plain": [
       "100"
      ]
     },
     "execution_count": 12,
     "metadata": {},
     "output_type": "execute_result"
    }
   ],
   "source": [
    "# here the images will be in their respective colors\n",
    "blank  = np.zeros(img.shape[:2], dtype ='uint8')\n",
    "blue = cv.merge([b,blank,blank])\n",
    "green = cv.merge([g,blank,blank])\n",
    "red = cv.merge([r,blank,blank])\n",
    "cv.imshow('Blue',blue)\n",
    "cv.imshow('Green', green)\n",
    "cv.imshow('Red',red)\n",
    "cv.waitKey(0)\n"
   ]
  },
  {
   "cell_type": "markdown",
   "id": "b376eb62",
   "metadata": {},
   "source": [
    "### Smoothing and Blurring Techniques"
   ]
  },
  {
   "cell_type": "code",
   "execution_count": 13,
   "id": "db4be3da",
   "metadata": {},
   "outputs": [
    {
     "data": {
      "text/plain": [
       "100"
      ]
     },
     "execution_count": 13,
     "metadata": {},
     "output_type": "execute_result"
    }
   ],
   "source": [
    "# Averaging - takes the intensity of surrounding pixels of a kernel window and then average it \n",
    "average = cv.blur(img,(3,3))\n",
    "cv.imshow('Average',average)\n",
    "cv.waitKey(0)"
   ]
  },
  {
   "cell_type": "code",
   "execution_count": 14,
   "id": "d37ddfe8",
   "metadata": {},
   "outputs": [
    {
     "data": {
      "text/plain": [
       "100"
      ]
     },
     "execution_count": 14,
     "metadata": {},
     "output_type": "execute_result"
    }
   ],
   "source": [
    "# Gaussian Blur (more natural and less blur than average) - same as above only instead of average we give some weights to the surrounding pixel's intensity\n",
    "gaussian = cv.GaussianBlur(img,(3,3), 0) # here 0 is the standard deviation in x direction\n",
    "cv.imshow('Gaussian', gaussian)\n",
    "cv.waitKey(0)"
   ]
  },
  {
   "cell_type": "code",
   "execution_count": 15,
   "id": "e893d084",
   "metadata": {},
   "outputs": [
    {
     "data": {
      "text/plain": [
       "100"
      ]
     },
     "execution_count": 15,
     "metadata": {},
     "output_type": "execute_result"
    }
   ],
   "source": [
    "# Median Blur\n",
    "median = cv.medianBlur(img,3) # here opencv already assumes kernel size is 3*3 \n",
    "cv.imshow('Median', median)\n",
    "cv.waitKey(0)"
   ]
  },
  {
   "cell_type": "code",
   "execution_count": 16,
   "id": "93e230f8",
   "metadata": {},
   "outputs": [
    {
     "data": {
      "text/plain": [
       "100"
      ]
     },
     "execution_count": 16,
     "metadata": {},
     "output_type": "execute_result"
    }
   ],
   "source": [
    "# bilateral blurring (most effective)\n",
    "# Applies blur but also retains the edges unlike traditional methods\n",
    "bilateral = cv.bilateralFilter(img,10, 35, 25) # 5 is diameter of kernel, 15 is sigmaColor, 15 is sigmaSpace\n",
    "cv.imshow('Bilateral', bilateral)\n",
    "cv.waitKey(0)"
   ]
  },
  {
   "cell_type": "markdown",
   "id": "84f4c97c",
   "metadata": {},
   "source": [
    "### Bitwise Operators"
   ]
  },
  {
   "cell_type": "code",
   "execution_count": 17,
   "id": "ce17d227",
   "metadata": {},
   "outputs": [],
   "source": [
    "blank1 = np.zeros((400,400), dtype='uint8')"
   ]
  },
  {
   "cell_type": "code",
   "execution_count": 18,
   "id": "39f882df",
   "metadata": {},
   "outputs": [],
   "source": [
    "rectangle = cv.rectangle(blank.copy(),(30,30),(370,370),255,-1 )\n",
    "circle = cv.circle(blank.copy(),(200,200),200,255,-1)"
   ]
  },
  {
   "cell_type": "code",
   "execution_count": 19,
   "id": "206959e6",
   "metadata": {},
   "outputs": [
    {
     "data": {
      "text/plain": [
       "100"
      ]
     },
     "execution_count": 19,
     "metadata": {},
     "output_type": "execute_result"
    }
   ],
   "source": [
    "cv.imshow('Rectangle', rectangle)\n",
    "cv.imshow('Circle', circle)\n",
    "cv.waitKey(0)"
   ]
  },
  {
   "cell_type": "code",
   "execution_count": 20,
   "id": "e747d0b2",
   "metadata": {},
   "outputs": [
    {
     "data": {
      "text/plain": [
       "100"
      ]
     },
     "execution_count": 20,
     "metadata": {},
     "output_type": "execute_result"
    }
   ],
   "source": [
    "# bitwise AND (returns the intersection part of two images)\n",
    "bitwise_and = cv.bitwise_and(rectangle,circle)\n",
    "cv.imshow('Bitwise_AND', bitwise_and)\n",
    "cv.waitKey(0)\n"
   ]
  },
  {
   "cell_type": "code",
   "execution_count": 21,
   "id": "857fd9a2",
   "metadata": {},
   "outputs": [
    {
     "data": {
      "text/plain": [
       "100"
      ]
     },
     "execution_count": 21,
     "metadata": {},
     "output_type": "execute_result"
    }
   ],
   "source": [
    "# bitwise_OR ( returns both intersection and non-intersection part of two images)\n",
    "bitwise_or = cv.bitwise_or(rectangle, circle)\n",
    "cv.imshow('Bitwise_or', bitwise_or)\n",
    "cv.waitKey(0)"
   ]
  },
  {
   "cell_type": "code",
   "execution_count": 22,
   "id": "122556b1",
   "metadata": {},
   "outputs": [
    {
     "data": {
      "text/plain": [
       "100"
      ]
     },
     "execution_count": 22,
     "metadata": {},
     "output_type": "execute_result"
    }
   ],
   "source": [
    "# bitwise_XOR (returns non intersecting regions)\n",
    "bitwise_xor = cv.bitwise_xor(rectangle,circle)\n",
    "cv.imshow('Bitwise_xor', bitwise_xor)\n",
    "cv.waitKey(0)"
   ]
  },
  {
   "cell_type": "code",
   "execution_count": 23,
   "id": "100e8e4d",
   "metadata": {},
   "outputs": [
    {
     "data": {
      "text/plain": [
       "100"
      ]
     },
     "execution_count": 23,
     "metadata": {},
     "output_type": "execute_result"
    }
   ],
   "source": [
    "# bitwise_not -(convert white regions to black and vice-versa) \n",
    "bitwise_not = cv.bitwise_not(rectangle)\n",
    "cv.imshow('Bitwise_not', bitwise_not)\n",
    "cv.waitKey(0)"
   ]
  },
  {
   "cell_type": "markdown",
   "id": "8838ef50",
   "metadata": {},
   "source": [
    "### Masking"
   ]
  },
  {
   "cell_type": "code",
   "execution_count": 24,
   "id": "4d01bb8f",
   "metadata": {},
   "outputs": [],
   "source": [
    "# reuturns a specific regions/area in an image "
   ]
  },
  {
   "cell_type": "code",
   "execution_count": 25,
   "id": "d57810bc",
   "metadata": {},
   "outputs": [
    {
     "data": {
      "text/plain": [
       "100"
      ]
     },
     "execution_count": 25,
     "metadata": {},
     "output_type": "execute_result"
    }
   ],
   "source": [
    "mask = cv.circle(blank, (img.shape[1]//2, img.shape[0]//2), 100,255,-1) #thickness = -1\n",
    "cv.imshow('Mask', mask)\n",
    "cv.waitKey(0)"
   ]
  },
  {
   "cell_type": "code",
   "execution_count": 26,
   "id": "6198bd27",
   "metadata": {},
   "outputs": [
    {
     "data": {
      "text/plain": [
       "100"
      ]
     },
     "execution_count": 26,
     "metadata": {},
     "output_type": "execute_result"
    }
   ],
   "source": [
    "masked = cv.bitwise_and(img,img,mask=mask)\n",
    "cv.imshow('Masked Image', masked)\n",
    "cv.waitKey(0)"
   ]
  },
  {
   "cell_type": "code",
   "execution_count": 27,
   "id": "e22ef14f",
   "metadata": {},
   "outputs": [
    {
     "data": {
      "text/plain": [
       "100"
      ]
     },
     "execution_count": 27,
     "metadata": {},
     "output_type": "execute_result"
    }
   ],
   "source": [
    "weird_shape = cv.bitwise_and(circle,rectangle)\n",
    "cv.imshow('Weird Shape', weird_shape)\n",
    "weird_mask = cv.bitwise_and(img, img, weird_shape)\n",
    "cv.imshow('Weird Shaped Image', weird_mask)\n",
    "cv.waitKey(0)"
   ]
  },
  {
   "cell_type": "markdown",
   "id": "1d944045",
   "metadata": {},
   "source": [
    "### Histogram Computation"
   ]
  },
  {
   "cell_type": "code",
   "execution_count": 28,
   "id": "a22a26bf",
   "metadata": {},
   "outputs": [],
   "source": [
    "# Histogram gives the distribution of the intensity of the pixels"
   ]
  },
  {
   "cell_type": "code",
   "execution_count": 29,
   "id": "363042ae",
   "metadata": {},
   "outputs": [
    {
     "data": {
      "image/png": "[encoded data removed]",
      "text/plain": [
       "<Figure size 432x288 with 1 Axes>"
      ]
     },
     "metadata": {
      "needs_background": "light"
     },
     "output_type": "display_data"
    }
   ],
   "source": [
    "# Grayscale histogram\n",
    "gray_hist = cv.calcHist([gray],[0],None, [256],[0,256]) # 0 is the no. of channels, mask is none, 256 is histsize, ranges is [0,256]\n",
    "plt.figure()\n",
    "plt.title('Grayscale Histogram')\n",
    "plt.xlabel('Bins/Intensity')\n",
    "plt.ylabel('# of pixels')\n",
    "plt.plot(gray_hist)\n",
    "plt.xlim([0,256])\n",
    "plt.show()\n",
    "\n",
    "# instead of None we can use a mask to get the distribution of the intensity of different colors using the histogram"
   ]
  },
  {
   "cell_type": "code",
   "execution_count": 30,
   "id": "ddbe4670",
   "metadata": {},
   "outputs": [],
   "source": [
    "# Color Histogram"
   ]
  },
  {
   "cell_type": "code",
   "execution_count": 31,
   "id": "8ad9765c",
   "metadata": {},
   "outputs": [
    {
     "data": {
      "image/png": "[encoded data removed]",
      "text/plain": [
       "<Figure size 432x288 with 1 Axes>"
      ]
     },
     "metadata": {
      "needs_background": "light"
     },
     "output_type": "display_data"
    }
   ],
   "source": [
    "colors = ('b','g','r')\n",
    "for i,col in enumerate(colors):\n",
    "    hist = cv.calcHist([img],[i],None,[256],[0,256])\n",
    "    plt.plot(hist, color = col)\n",
    "    plt.xlim([0,256])\n",
    "plt.show()"
   ]
  },
  {
   "cell_type": "markdown",
   "id": "52d87646",
   "metadata": {},
   "source": [
    "### Thresholding/Binarizing"
   ]
  },
  {
   "cell_type": "code",
   "execution_count": 32,
   "id": "ce4a98cf",
   "metadata": {},
   "outputs": [
    {
     "data": {
      "text/plain": [
       "100"
      ]
     },
     "execution_count": 32,
     "metadata": {},
     "output_type": "execute_result"
    }
   ],
   "source": [
    "# Simple Thresholding\n",
    "threshold, thresh = cv.threshold(gray, 150, 255, cv.THRESH_BINARY) #150 is thresh value and 255 is max value\n",
    "cv.imshow('Simple_Threshold', thresh)\n",
    "cv.waitKey(0)\n",
    "# displays the part of image with white color that has pixel intensity values greater than 150"
   ]
  },
  {
   "cell_type": "code",
   "execution_count": 33,
   "id": "14062f62",
   "metadata": {},
   "outputs": [
    {
     "data": {
      "text/plain": [
       "100"
      ]
     },
     "execution_count": 33,
     "metadata": {},
     "output_type": "execute_result"
    }
   ],
   "source": [
    "# Inverse Threshold (black pixels changes to white and vice-versa)\n",
    "threshold, thresh_inv = cv.threshold(gray, 150, 255, cv.THRESH_BINARY_INV) #150 is thresh value and 255 is max value\n",
    "cv.imshow('Simple_Threshold', thresh_inv)\n",
    "cv.waitKey(0)\n",
    "# displays the part of image with white color that has pixel intensity values less than 150"
   ]
  },
  {
   "cell_type": "code",
   "execution_count": 38,
   "id": "fe1b918d",
   "metadata": {},
   "outputs": [
    {
     "data": {
      "text/plain": [
       "100"
      ]
     },
     "execution_count": 38,
     "metadata": {},
     "output_type": "execute_result"
    }
   ],
   "source": [
    "# Adaptive Threshold (Let the computer find the optimal value of Threshold)\n",
    "adaptive_thresh = cv.adaptiveThreshold(gray, 255, cv.ADAPTIVE_THRESH_GAUSSIAN_C, cv.THRESH_BINARY, 11, 3) #11 is blocksize and 3 is C which is subtracted from mean\n",
    "cv.imshow('Adaptive Thresh', adaptive_thresh)\n",
    "cv.waitKey(0)\n",
    "\n"
   ]
  },
  {
   "cell_type": "markdown",
   "id": "55d20701",
   "metadata": {},
   "source": [
    "### Edge Detection"
   ]
  },
  {
   "cell_type": "code",
   "execution_count": 40,
   "id": "91d7de97",
   "metadata": {},
   "outputs": [
    {
     "data": {
      "text/plain": [
       "100"
      ]
     },
     "execution_count": 40,
     "metadata": {},
     "output_type": "execute_result"
    }
   ],
   "source": [
    "# laplacian Method (calculates the gradients of the edges)\n",
    "lap = cv.Laplacian(gray, cv.CV_64F) # datadepth is CV_64F\n",
    "lap = np.uint8(np.absolute(lap))\n",
    "cv.imshow('Lap', lap)\n",
    "cv.waitKey(0)\n",
    "\n"
   ]
  },
  {
   "cell_type": "code",
   "execution_count": 42,
   "id": "0ee316fc",
   "metadata": {},
   "outputs": [
    {
     "data": {
      "text/plain": [
       "100"
      ]
     },
     "execution_count": 42,
     "metadata": {},
     "output_type": "execute_result"
    }
   ],
   "source": [
    "# Sobel (calculates gradients in both x and y direction)\n",
    "sobelx = cv.Sobel(gray,cv.CV_64F,1,0) # ydirection gradients are 0\n",
    "sobely = cv.Sobel(gray, cv.CV_64F,0,1)\n",
    "combined_sobel = cv.bitwise_or(sobelx,sobely)\n",
    "cv.imshow('Sobel X', sobelx)\n",
    "cv.imshow('Sobel Y', sobely)\n",
    "cv.imshow('Combined Sobel', combined_sobel)\n",
    "cv.waitKey(0)"
   ]
  },
  {
   "cell_type": "code",
   "execution_count": 44,
   "id": "8398733b",
   "metadata": {},
   "outputs": [
    {
     "data": {
      "text/plain": [
       "100"
      ]
     },
     "execution_count": 44,
     "metadata": {},
     "output_type": "execute_result"
    }
   ],
   "source": [
    "# comparing with Canny (multistep method - more advanced method)\n",
    "canny =cv.Canny(gray, 150, 175 )\n",
    "cv.imshow('Canny', canny)\n",
    "cv.waitKey(0)\n",
    "\n",
    "#Commonly used- Canny, in more advanced use cases - sobel"
   ]
  },
  {
   "cell_type": "code",
   "execution_count": null,
   "id": "1a1adefe",
   "metadata": {},
   "outputs": [],
   "source": []
  },
  {
   "cell_type": "code",
   "execution_count": null,
   "id": "57eb80a7",
   "metadata": {},
   "outputs": [],
   "source": []
  },
  {
   "cell_type": "code",
   "execution_count": null,
   "id": "8725703b",
   "metadata": {},
   "outputs": [],
   "source": []
  },
  {
   "cell_type": "code",
   "execution_count": null,
   "id": "61a2803b",
   "metadata": {},
   "outputs": [],
   "source": []
  },
  {
   "cell_type": "code",
   "execution_count": 45,
   "id": "06899879",
   "metadata": {},
   "outputs": [],
   "source": [
    "cv.destroyAllWindows()"
   ]
  },
  {
   "cell_type": "code",
   "execution_count": null,
   "id": "adff9698",
   "metadata": {},
   "outputs": [],
   "source": []
  }
 ],
 "metadata": {
  "kernelspec": {
   "display_name": "Python 3 (ipykernel)",
   "language": "python",
   "name": "python3"
  },
  "language_info": {
   "codemirror_mode": {
    "name": "ipython",
    "version": 3
   },
   "file_extension": ".py",
   "mimetype": "text/x-python",
   "name": "python",
   "nbconvert_exporter": "python",
   "pygments_lexer": "ipython3",
   "version": "3.9.13"
  }
 },
 "nbformat": 4,
 "nbformat_minor": 5
}
